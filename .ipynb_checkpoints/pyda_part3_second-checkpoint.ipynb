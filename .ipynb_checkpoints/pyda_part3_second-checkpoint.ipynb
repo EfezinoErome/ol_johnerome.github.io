{
 "cells": [
  {
   "cell_type": "code",
   "execution_count": 4,
   "metadata": {
    "collapsed": true
   },
   "outputs": [],
   "source": [
    "import pandas as pd\n",
    "import numpy as np"
   ]
  },
  {
   "cell_type": "code",
   "execution_count": 35,
   "metadata": {
    "collapsed": false
   },
   "outputs": [
    {
     "data": {
      "text/plain": [
       "pandas.core.frame.DataFrame"
      ]
     },
     "execution_count": 35,
     "metadata": {},
     "output_type": "execute_result"
    }
   ],
   "source": [
    "data1 = {'Department': ['IT','IT','HR','HR','Trade','?','Trade','HR','IT'],\n",
    "         'Education': ['Bachelor','Master','Master','Bachelor','PHD','PHD','Master','Master',''],\n",
    "         'Sex': ['M','M','M','F','M','F','F','M','F'],\n",
    "         'Title': ['analyst','analyst','analyst','analyst','associate','associate','associate','VP','VP'],\n",
    "         'Year': [1.0,2.0,2.0,2.0,3.0,5.0,np.nan,8.0,9.0],\n",
    "         'Name': ['Bob','Jake','John','Judy','Sam','Amy','Jennifer','Peter','Mary'],\n",
    "         'Salary': [90,90,90,90,120,120,120,250,250]}\n",
    "import pandas\n",
    "Employee = pandas.DataFrame(data1)\n",
    "type(Employee)"
   ]
  },
  {
   "cell_type": "code",
   "execution_count": 36,
   "metadata": {
    "collapsed": false
   },
   "outputs": [
    {
     "data": {
      "text/html": [
       "<div>\n",
       "<table border=\"1\" class=\"dataframe\">\n",
       "  <thead>\n",
       "    <tr style=\"text-align: right;\">\n",
       "      <th></th>\n",
       "      <th>Department</th>\n",
       "      <th>Education</th>\n",
       "      <th>Name</th>\n",
       "      <th>Salary</th>\n",
       "      <th>Sex</th>\n",
       "      <th>Title</th>\n",
       "      <th>Year</th>\n",
       "    </tr>\n",
       "  </thead>\n",
       "  <tbody>\n",
       "    <tr>\n",
       "      <th>0</th>\n",
       "      <td>IT</td>\n",
       "      <td>Bachelor</td>\n",
       "      <td>Bob</td>\n",
       "      <td>90</td>\n",
       "      <td>M</td>\n",
       "      <td>analyst</td>\n",
       "      <td>1.0</td>\n",
       "    </tr>\n",
       "    <tr>\n",
       "      <th>1</th>\n",
       "      <td>IT</td>\n",
       "      <td>Master</td>\n",
       "      <td>Jake</td>\n",
       "      <td>90</td>\n",
       "      <td>M</td>\n",
       "      <td>analyst</td>\n",
       "      <td>2.0</td>\n",
       "    </tr>\n",
       "    <tr>\n",
       "      <th>2</th>\n",
       "      <td>HR</td>\n",
       "      <td>Master</td>\n",
       "      <td>John</td>\n",
       "      <td>90</td>\n",
       "      <td>M</td>\n",
       "      <td>analyst</td>\n",
       "      <td>2.0</td>\n",
       "    </tr>\n",
       "    <tr>\n",
       "      <th>3</th>\n",
       "      <td>HR</td>\n",
       "      <td>Bachelor</td>\n",
       "      <td>Judy</td>\n",
       "      <td>90</td>\n",
       "      <td>F</td>\n",
       "      <td>analyst</td>\n",
       "      <td>2.0</td>\n",
       "    </tr>\n",
       "    <tr>\n",
       "      <th>4</th>\n",
       "      <td>Trade</td>\n",
       "      <td>PHD</td>\n",
       "      <td>Sam</td>\n",
       "      <td>120</td>\n",
       "      <td>M</td>\n",
       "      <td>associate</td>\n",
       "      <td>3.0</td>\n",
       "    </tr>\n",
       "    <tr>\n",
       "      <th>5</th>\n",
       "      <td>?</td>\n",
       "      <td>PHD</td>\n",
       "      <td>Amy</td>\n",
       "      <td>120</td>\n",
       "      <td>F</td>\n",
       "      <td>associate</td>\n",
       "      <td>5.0</td>\n",
       "    </tr>\n",
       "    <tr>\n",
       "      <th>6</th>\n",
       "      <td>Trade</td>\n",
       "      <td>Master</td>\n",
       "      <td>Jennifer</td>\n",
       "      <td>120</td>\n",
       "      <td>F</td>\n",
       "      <td>associate</td>\n",
       "      <td>NaN</td>\n",
       "    </tr>\n",
       "    <tr>\n",
       "      <th>7</th>\n",
       "      <td>HR</td>\n",
       "      <td>Master</td>\n",
       "      <td>Peter</td>\n",
       "      <td>250</td>\n",
       "      <td>M</td>\n",
       "      <td>VP</td>\n",
       "      <td>8.0</td>\n",
       "    </tr>\n",
       "    <tr>\n",
       "      <th>8</th>\n",
       "      <td>IT</td>\n",
       "      <td></td>\n",
       "      <td>Mary</td>\n",
       "      <td>250</td>\n",
       "      <td>F</td>\n",
       "      <td>VP</td>\n",
       "      <td>9.0</td>\n",
       "    </tr>\n",
       "  </tbody>\n",
       "</table>\n",
       "</div>"
      ],
      "text/plain": [
       "  Department Education      Name  Salary Sex      Title  Year\n",
       "0         IT  Bachelor       Bob      90   M    analyst   1.0\n",
       "1         IT    Master      Jake      90   M    analyst   2.0\n",
       "2         HR    Master      John      90   M    analyst   2.0\n",
       "3         HR  Bachelor      Judy      90   F    analyst   2.0\n",
       "4      Trade       PHD       Sam     120   M  associate   3.0\n",
       "5          ?       PHD       Amy     120   F  associate   5.0\n",
       "6      Trade    Master  Jennifer     120   F  associate   NaN\n",
       "7         HR    Master     Peter     250   M         VP   8.0\n",
       "8         IT                Mary     250   F         VP   9.0"
      ]
     },
     "execution_count": 36,
     "metadata": {},
     "output_type": "execute_result"
    }
   ],
   "source": [
    "Employee"
   ]
  },
  {
   "cell_type": "code",
   "execution_count": 37,
   "metadata": {
    "collapsed": false
   },
   "outputs": [
    {
     "data": {
      "text/html": [
       "<div>\n",
       "<table border=\"1\" class=\"dataframe\">\n",
       "  <thead>\n",
       "    <tr style=\"text-align: right;\">\n",
       "      <th></th>\n",
       "      <th>Department</th>\n",
       "      <th>Education</th>\n",
       "      <th>Name</th>\n",
       "      <th>Salary</th>\n",
       "      <th>Sex</th>\n",
       "      <th>Title</th>\n",
       "      <th>Year</th>\n",
       "    </tr>\n",
       "  </thead>\n",
       "  <tbody>\n",
       "    <tr>\n",
       "      <th>0</th>\n",
       "      <td>IT</td>\n",
       "      <td>Bachelor</td>\n",
       "      <td>Bob</td>\n",
       "      <td>90.0</td>\n",
       "      <td>M</td>\n",
       "      <td>analyst</td>\n",
       "      <td>1.0</td>\n",
       "    </tr>\n",
       "    <tr>\n",
       "      <th>1</th>\n",
       "      <td>IT</td>\n",
       "      <td>Master</td>\n",
       "      <td>Jake</td>\n",
       "      <td>90.0</td>\n",
       "      <td>M</td>\n",
       "      <td>analyst</td>\n",
       "      <td>2.0</td>\n",
       "    </tr>\n",
       "    <tr>\n",
       "      <th>2</th>\n",
       "      <td>HR</td>\n",
       "      <td>Master</td>\n",
       "      <td>John</td>\n",
       "      <td>90.0</td>\n",
       "      <td>M</td>\n",
       "      <td>analyst</td>\n",
       "      <td>2.0</td>\n",
       "    </tr>\n",
       "    <tr>\n",
       "      <th>3</th>\n",
       "      <td>HR</td>\n",
       "      <td>Bachelor</td>\n",
       "      <td>Judy</td>\n",
       "      <td>90.0</td>\n",
       "      <td>F</td>\n",
       "      <td>analyst</td>\n",
       "      <td>2.0</td>\n",
       "    </tr>\n",
       "    <tr>\n",
       "      <th>4</th>\n",
       "      <td>Trade</td>\n",
       "      <td>PHD</td>\n",
       "      <td>Sam</td>\n",
       "      <td>120.0</td>\n",
       "      <td>M</td>\n",
       "      <td>associate</td>\n",
       "      <td>3.0</td>\n",
       "    </tr>\n",
       "    <tr>\n",
       "      <th>5</th>\n",
       "      <td>?</td>\n",
       "      <td>PHD</td>\n",
       "      <td>Amy</td>\n",
       "      <td>120.0</td>\n",
       "      <td>F</td>\n",
       "      <td>associate</td>\n",
       "      <td>5.0</td>\n",
       "    </tr>\n",
       "    <tr>\n",
       "      <th>6</th>\n",
       "      <td>Trade</td>\n",
       "      <td>Master</td>\n",
       "      <td>Jennifer</td>\n",
       "      <td>120.0</td>\n",
       "      <td>F</td>\n",
       "      <td>associate</td>\n",
       "      <td>NaN</td>\n",
       "    </tr>\n",
       "    <tr>\n",
       "      <th>7</th>\n",
       "      <td>HR</td>\n",
       "      <td>Master</td>\n",
       "      <td>Peter</td>\n",
       "      <td>262.5</td>\n",
       "      <td>M</td>\n",
       "      <td>VP</td>\n",
       "      <td>8.0</td>\n",
       "    </tr>\n",
       "    <tr>\n",
       "      <th>8</th>\n",
       "      <td>IT</td>\n",
       "      <td></td>\n",
       "      <td>Mary</td>\n",
       "      <td>262.5</td>\n",
       "      <td>F</td>\n",
       "      <td>VP</td>\n",
       "      <td>9.0</td>\n",
       "    </tr>\n",
       "  </tbody>\n",
       "</table>\n",
       "</div>"
      ],
      "text/plain": [
       "  Department Education      Name  Salary Sex      Title  Year\n",
       "0         IT  Bachelor       Bob    90.0   M    analyst   1.0\n",
       "1         IT    Master      Jake    90.0   M    analyst   2.0\n",
       "2         HR    Master      John    90.0   M    analyst   2.0\n",
       "3         HR  Bachelor      Judy    90.0   F    analyst   2.0\n",
       "4      Trade       PHD       Sam   120.0   M  associate   3.0\n",
       "5          ?       PHD       Amy   120.0   F  associate   5.0\n",
       "6      Trade    Master  Jennifer   120.0   F  associate   NaN\n",
       "7         HR    Master     Peter   262.5   M         VP   8.0\n",
       "8         IT                Mary   262.5   F         VP   9.0"
      ]
     },
     "execution_count": 37,
     "metadata": {},
     "output_type": "execute_result"
    }
   ],
   "source": [
    "Employee.loc[:,'Salary'] = Employee.loc[:,'Salary']*(1 + 0.05 * (Employee.loc[:,'Title'] =='VP') ) \n",
    "Employee"
   ]
  },
  {
   "cell_type": "code",
   "execution_count": 31,
   "metadata": {
    "collapsed": false,
    "scrolled": true
   },
   "outputs": [
    {
     "data": {
      "text/html": [
       "<div>\n",
       "<table border=\"1\" class=\"dataframe\">\n",
       "  <thead>\n",
       "    <tr style=\"text-align: right;\">\n",
       "      <th></th>\n",
       "      <th>Department</th>\n",
       "      <th>Education</th>\n",
       "      <th>Name</th>\n",
       "      <th>Salary</th>\n",
       "      <th>Sex</th>\n",
       "      <th>Title</th>\n",
       "      <th>Year</th>\n",
       "    </tr>\n",
       "  </thead>\n",
       "  <tbody>\n",
       "    <tr>\n",
       "      <th>0</th>\n",
       "      <td>IT</td>\n",
       "      <td>Bachelor</td>\n",
       "      <td>Bob</td>\n",
       "      <td>0.000000</td>\n",
       "      <td>M</td>\n",
       "      <td>analyst</td>\n",
       "      <td>1.0</td>\n",
       "    </tr>\n",
       "    <tr>\n",
       "      <th>1</th>\n",
       "      <td>IT</td>\n",
       "      <td>Master</td>\n",
       "      <td>Jake</td>\n",
       "      <td>0.000000</td>\n",
       "      <td>M</td>\n",
       "      <td>analyst</td>\n",
       "      <td>2.0</td>\n",
       "    </tr>\n",
       "    <tr>\n",
       "      <th>2</th>\n",
       "      <td>HR</td>\n",
       "      <td>Master</td>\n",
       "      <td>John</td>\n",
       "      <td>0.000000</td>\n",
       "      <td>M</td>\n",
       "      <td>analyst</td>\n",
       "      <td>2.0</td>\n",
       "    </tr>\n",
       "    <tr>\n",
       "      <th>3</th>\n",
       "      <td>HR</td>\n",
       "      <td>Bachelor</td>\n",
       "      <td>Judy</td>\n",
       "      <td>0.000000</td>\n",
       "      <td>F</td>\n",
       "      <td>analyst</td>\n",
       "      <td>2.0</td>\n",
       "    </tr>\n",
       "    <tr>\n",
       "      <th>4</th>\n",
       "      <td>Trade</td>\n",
       "      <td>PHD</td>\n",
       "      <td>Sam</td>\n",
       "      <td>0.000000</td>\n",
       "      <td>M</td>\n",
       "      <td>associate</td>\n",
       "      <td>3.0</td>\n",
       "    </tr>\n",
       "    <tr>\n",
       "      <th>5</th>\n",
       "      <td>?</td>\n",
       "      <td>PHD</td>\n",
       "      <td>Amy</td>\n",
       "      <td>0.000000</td>\n",
       "      <td>F</td>\n",
       "      <td>associate</td>\n",
       "      <td>5.0</td>\n",
       "    </tr>\n",
       "    <tr>\n",
       "      <th>6</th>\n",
       "      <td>Trade</td>\n",
       "      <td>Master</td>\n",
       "      <td>Jennifer</td>\n",
       "      <td>0.000000</td>\n",
       "      <td>F</td>\n",
       "      <td>associate</td>\n",
       "      <td>NaN</td>\n",
       "    </tr>\n",
       "    <tr>\n",
       "      <th>7</th>\n",
       "      <td>HR</td>\n",
       "      <td>Master</td>\n",
       "      <td>Peter</td>\n",
       "      <td>319.070391</td>\n",
       "      <td>M</td>\n",
       "      <td>VP</td>\n",
       "      <td>8.0</td>\n",
       "    </tr>\n",
       "    <tr>\n",
       "      <th>8</th>\n",
       "      <td>IT</td>\n",
       "      <td></td>\n",
       "      <td>Mary</td>\n",
       "      <td>319.070391</td>\n",
       "      <td>F</td>\n",
       "      <td>VP</td>\n",
       "      <td>9.0</td>\n",
       "    </tr>\n",
       "  </tbody>\n",
       "</table>\n",
       "</div>"
      ],
      "text/plain": [
       "  Department Education      Name      Salary Sex      Title  Year\n",
       "0         IT  Bachelor       Bob    0.000000   M    analyst   1.0\n",
       "1         IT    Master      Jake    0.000000   M    analyst   2.0\n",
       "2         HR    Master      John    0.000000   M    analyst   2.0\n",
       "3         HR  Bachelor      Judy    0.000000   F    analyst   2.0\n",
       "4      Trade       PHD       Sam    0.000000   M  associate   3.0\n",
       "5          ?       PHD       Amy    0.000000   F  associate   5.0\n",
       "6      Trade    Master  Jennifer    0.000000   F  associate   NaN\n",
       "7         HR    Master     Peter  319.070391   M         VP   8.0\n",
       "8         IT                Mary  319.070391   F         VP   9.0"
      ]
     },
     "execution_count": 31,
     "metadata": {},
     "output_type": "execute_result"
    }
   ],
   "source": [
    "Employee"
   ]
  },
  {
   "cell_type": "code",
   "execution_count": 42,
   "metadata": {
    "collapsed": false
   },
   "outputs": [
    {
     "name": "stderr",
     "output_type": "stream",
     "text": [
      "/home/efezino/anaconda3/lib/python3.5/site-packages/numpy/lib/function_base.py:3834: RuntimeWarning: Invalid value encountered in percentile\n",
      "  RuntimeWarning)\n"
     ]
    },
    {
     "data": {
      "text/plain": [
       "Salary    901.585947\n",
       "Year       25.023716\n",
       "dtype: float64"
      ]
     },
     "execution_count": 42,
     "metadata": {},
     "output_type": "execute_result"
    }
   ],
   "source": [
    "temp = Employee.describe()\n",
    "temp[[\"Salary\",\"Year\"]].apply(np.sum)"
   ]
  },
  {
   "cell_type": "code",
   "execution_count": 40,
   "metadata": {
    "collapsed": false
   },
   "outputs": [
    {
     "data": {
      "text/html": [
       "<div>\n",
       "<table border=\"1\" class=\"dataframe\">\n",
       "  <thead>\n",
       "    <tr style=\"text-align: right;\">\n",
       "      <th></th>\n",
       "      <th>Salary</th>\n",
       "      <th>Year</th>\n",
       "    </tr>\n",
       "  </thead>\n",
       "  <tbody>\n",
       "    <tr>\n",
       "      <th>count</th>\n",
       "      <td>9.000000</td>\n",
       "      <td>8.000000</td>\n",
       "    </tr>\n",
       "    <tr>\n",
       "      <th>mean</th>\n",
       "      <td>138.333333</td>\n",
       "      <td>4.000000</td>\n",
       "    </tr>\n",
       "    <tr>\n",
       "      <th>std</th>\n",
       "      <td>71.752613</td>\n",
       "      <td>3.023716</td>\n",
       "    </tr>\n",
       "    <tr>\n",
       "      <th>min</th>\n",
       "      <td>90.000000</td>\n",
       "      <td>1.000000</td>\n",
       "    </tr>\n",
       "    <tr>\n",
       "      <th>25%</th>\n",
       "      <td>90.000000</td>\n",
       "      <td>NaN</td>\n",
       "    </tr>\n",
       "    <tr>\n",
       "      <th>50%</th>\n",
       "      <td>120.000000</td>\n",
       "      <td>NaN</td>\n",
       "    </tr>\n",
       "    <tr>\n",
       "      <th>75%</th>\n",
       "      <td>120.000000</td>\n",
       "      <td>NaN</td>\n",
       "    </tr>\n",
       "    <tr>\n",
       "      <th>max</th>\n",
       "      <td>262.500000</td>\n",
       "      <td>9.000000</td>\n",
       "    </tr>\n",
       "  </tbody>\n",
       "</table>\n",
       "</div>"
      ],
      "text/plain": [
       "           Salary      Year\n",
       "count    9.000000  8.000000\n",
       "mean   138.333333  4.000000\n",
       "std     71.752613  3.023716\n",
       "min     90.000000  1.000000\n",
       "25%     90.000000       NaN\n",
       "50%    120.000000       NaN\n",
       "75%    120.000000       NaN\n",
       "max    262.500000  9.000000"
      ]
     },
     "execution_count": 40,
     "metadata": {},
     "output_type": "execute_result"
    }
   ],
   "source": [
    "temp"
   ]
  },
  {
   "cell_type": "code",
   "execution_count": 43,
   "metadata": {
    "collapsed": false
   },
   "outputs": [
    {
     "data": {
      "text/html": [
       "<div>\n",
       "<table border=\"1\" class=\"dataframe\">\n",
       "  <thead>\n",
       "    <tr style=\"text-align: right;\">\n",
       "      <th></th>\n",
       "      <th>Department</th>\n",
       "      <th>Education</th>\n",
       "      <th>Name</th>\n",
       "      <th>Salary</th>\n",
       "      <th>Sex</th>\n",
       "      <th>Title</th>\n",
       "      <th>Year</th>\n",
       "    </tr>\n",
       "  </thead>\n",
       "  <tbody>\n",
       "    <tr>\n",
       "      <th>0</th>\n",
       "      <td>False</td>\n",
       "      <td>False</td>\n",
       "      <td>False</td>\n",
       "      <td>False</td>\n",
       "      <td>False</td>\n",
       "      <td>False</td>\n",
       "      <td>False</td>\n",
       "    </tr>\n",
       "    <tr>\n",
       "      <th>1</th>\n",
       "      <td>False</td>\n",
       "      <td>False</td>\n",
       "      <td>False</td>\n",
       "      <td>False</td>\n",
       "      <td>False</td>\n",
       "      <td>False</td>\n",
       "      <td>False</td>\n",
       "    </tr>\n",
       "    <tr>\n",
       "      <th>2</th>\n",
       "      <td>False</td>\n",
       "      <td>False</td>\n",
       "      <td>False</td>\n",
       "      <td>False</td>\n",
       "      <td>False</td>\n",
       "      <td>False</td>\n",
       "      <td>False</td>\n",
       "    </tr>\n",
       "    <tr>\n",
       "      <th>3</th>\n",
       "      <td>False</td>\n",
       "      <td>False</td>\n",
       "      <td>False</td>\n",
       "      <td>False</td>\n",
       "      <td>False</td>\n",
       "      <td>False</td>\n",
       "      <td>False</td>\n",
       "    </tr>\n",
       "    <tr>\n",
       "      <th>4</th>\n",
       "      <td>False</td>\n",
       "      <td>False</td>\n",
       "      <td>False</td>\n",
       "      <td>False</td>\n",
       "      <td>False</td>\n",
       "      <td>False</td>\n",
       "      <td>False</td>\n",
       "    </tr>\n",
       "    <tr>\n",
       "      <th>5</th>\n",
       "      <td>False</td>\n",
       "      <td>False</td>\n",
       "      <td>False</td>\n",
       "      <td>False</td>\n",
       "      <td>False</td>\n",
       "      <td>False</td>\n",
       "      <td>False</td>\n",
       "    </tr>\n",
       "    <tr>\n",
       "      <th>6</th>\n",
       "      <td>False</td>\n",
       "      <td>False</td>\n",
       "      <td>False</td>\n",
       "      <td>False</td>\n",
       "      <td>False</td>\n",
       "      <td>False</td>\n",
       "      <td>True</td>\n",
       "    </tr>\n",
       "    <tr>\n",
       "      <th>7</th>\n",
       "      <td>False</td>\n",
       "      <td>False</td>\n",
       "      <td>False</td>\n",
       "      <td>False</td>\n",
       "      <td>False</td>\n",
       "      <td>False</td>\n",
       "      <td>False</td>\n",
       "    </tr>\n",
       "    <tr>\n",
       "      <th>8</th>\n",
       "      <td>False</td>\n",
       "      <td>False</td>\n",
       "      <td>False</td>\n",
       "      <td>False</td>\n",
       "      <td>False</td>\n",
       "      <td>False</td>\n",
       "      <td>False</td>\n",
       "    </tr>\n",
       "  </tbody>\n",
       "</table>\n",
       "</div>"
      ],
      "text/plain": [
       "  Department Education   Name Salary    Sex  Title   Year\n",
       "0      False     False  False  False  False  False  False\n",
       "1      False     False  False  False  False  False  False\n",
       "2      False     False  False  False  False  False  False\n",
       "3      False     False  False  False  False  False  False\n",
       "4      False     False  False  False  False  False  False\n",
       "5      False     False  False  False  False  False  False\n",
       "6      False     False  False  False  False  False   True\n",
       "7      False     False  False  False  False  False  False\n",
       "8      False     False  False  False  False  False  False"
      ]
     },
     "execution_count": 43,
     "metadata": {},
     "output_type": "execute_result"
    }
   ],
   "source": [
    "Employee.isnull()"
   ]
  },
  {
   "cell_type": "code",
   "execution_count": 46,
   "metadata": {
    "collapsed": false
   },
   "outputs": [
    {
     "data": {
      "text/plain": [
       "Department    0\n",
       "Education     0\n",
       "Name          0\n",
       "Salary        0\n",
       "Sex           0\n",
       "Title         0\n",
       "Year          1\n",
       "dtype: int64"
      ]
     },
     "execution_count": 46,
     "metadata": {},
     "output_type": "execute_result"
    }
   ],
   "source": [
    "np.sum(Employee.isnull())"
   ]
  },
  {
   "cell_type": "code",
   "execution_count": 48,
   "metadata": {
    "collapsed": false
   },
   "outputs": [
    {
     "data": {
      "text/plain": [
       "0    False\n",
       "1    False\n",
       "2    False\n",
       "3    False\n",
       "4    False\n",
       "5    False\n",
       "6     True\n",
       "7    False\n",
       "8    False\n",
       "dtype: bool"
      ]
     },
     "execution_count": 48,
     "metadata": {},
     "output_type": "execute_result"
    }
   ],
   "source": [
    "Employee.isnull().any(axis=1)"
   ]
  },
  {
   "cell_type": "code",
   "execution_count": 49,
   "metadata": {
    "collapsed": false
   },
   "outputs": [
    {
     "data": {
      "text/plain": [
       "0    False\n",
       "1    False\n",
       "2    False\n",
       "3    False\n",
       "4    False\n",
       "5    False\n",
       "6    False\n",
       "7    False\n",
       "8    False\n",
       "dtype: bool"
      ]
     },
     "execution_count": 49,
     "metadata": {},
     "output_type": "execute_result"
    }
   ],
   "source": [
    "Employee.isnull().all(axis=1)"
   ]
  },
  {
   "cell_type": "code",
   "execution_count": 50,
   "metadata": {
    "collapsed": false
   },
   "outputs": [
    {
     "name": "stdout",
     "output_type": "stream",
     "text": [
      "Help on method isnull in module pandas.core.generic:\n",
      "\n",
      "isnull() method of pandas.core.frame.DataFrame instance\n",
      "    Return a boolean same-sized object indicating if the values are null.\n",
      "    \n",
      "    See Also\n",
      "    --------\n",
      "    notnull : boolean inverse of isnull\n",
      "\n"
     ]
    }
   ],
   "source": [
    "help(Employee.isnull)"
   ]
  },
  {
   "cell_type": "code",
   "execution_count": 52,
   "metadata": {
    "collapsed": false
   },
   "outputs": [
    {
     "data": {
      "text/plain": [
       "Department    9\n",
       "Education     9\n",
       "Name          9\n",
       "Salary        9\n",
       "Sex           9\n",
       "Title         9\n",
       "Year          8\n",
       "dtype: int64"
      ]
     },
     "execution_count": 52,
     "metadata": {},
     "output_type": "execute_result"
    }
   ],
   "source": [
    "np.sum(Employee.notnull())"
   ]
  },
  {
   "cell_type": "code",
   "execution_count": 53,
   "metadata": {
    "collapsed": false
   },
   "outputs": [
    {
     "data": {
      "text/plain": [
       "Department     True\n",
       "Education      True\n",
       "Name           True\n",
       "Salary         True\n",
       "Sex            True\n",
       "Title          True\n",
       "Year          False\n",
       "dtype: bool"
      ]
     },
     "execution_count": 53,
     "metadata": {},
     "output_type": "execute_result"
    }
   ],
   "source": [
    "Employee.notnull().all(axis=0)"
   ]
  },
  {
   "cell_type": "code",
   "execution_count": 54,
   "metadata": {
    "collapsed": false
   },
   "outputs": [
    {
     "data": {
      "text/plain": [
       "0     True\n",
       "1     True\n",
       "2     True\n",
       "3     True\n",
       "4     True\n",
       "5     True\n",
       "6    False\n",
       "7     True\n",
       "8     True\n",
       "dtype: bool"
      ]
     },
     "execution_count": 54,
     "metadata": {},
     "output_type": "execute_result"
    }
   ],
   "source": [
    "Employee.notnull().all(axis=1)"
   ]
  },
  {
   "cell_type": "code",
   "execution_count": null,
   "metadata": {
    "collapsed": true
   },
   "outputs": [],
   "source": []
  }
 ],
 "metadata": {
  "anaconda-cloud": {},
  "kernelspec": {
   "display_name": "Python [default]",
   "language": "python",
   "name": "python3"
  },
  "language_info": {
   "codemirror_mode": {
    "name": "ipython",
    "version": 3
   },
   "file_extension": ".py",
   "mimetype": "text/x-python",
   "name": "python",
   "nbconvert_exporter": "python",
   "pygments_lexer": "ipython3",
   "version": "3.5.2"
  }
 },
 "nbformat": 4,
 "nbformat_minor": 1
}
